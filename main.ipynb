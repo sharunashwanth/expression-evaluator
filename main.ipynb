{
 "cells": [
  {
   "cell_type": "markdown",
   "metadata": {},
   "source": [
    "### Custom `stack` data structure using python list"
   ]
  },
  {
   "cell_type": "code",
   "execution_count": null,
   "metadata": {},
   "outputs": [],
   "source": [
    "class Stack:\n",
    "    def __init__(self) -> None:\n",
    "        # Initialize a stack using a Python list.\n",
    "        self.items = []\n",
    "\n",
    "    def push(self, val):\n",
    "        # Push an element onto the stack.\n",
    "        self.items.append(val)\n",
    "\n",
    "    def pop(self):\n",
    "        # Pop an element from the stack and return it.\n",
    "        return self.items.pop()\n",
    "\n",
    "    def peek(self):\n",
    "        # Peek at the top element of the stack without removing it.\n",
    "        return self.items[-1]\n",
    "\n",
    "    def __len__(self):\n",
    "        # Get the number of elements in the stack.\n",
    "        return self.items.__len__()"
   ]
  },
  {
   "cell_type": "markdown",
   "metadata": {},
   "source": [
    "### Defining constants for the program"
   ]
  },
  {
   "cell_type": "code",
   "execution_count": null,
   "metadata": {},
   "outputs": [],
   "source": [
    "from enum import Enum\n",
    "\n",
    "class OperatorPrecedence(Enum):\n",
    "    # Enum to define the precedence of operators.\n",
    "    PLUS = 1\n",
    "    MINUS = 1\n",
    "    MULTIPLY = 2\n",
    "    DIVIDE = 2\n",
    "\n",
    "MAPPING = {\n",
    "    # Mapping of operators to their precedence values.\n",
    "    '+' : OperatorPrecedence.PLUS.value,\n",
    "    '-' : OperatorPrecedence.MINUS.value,\n",
    "    '*' : OperatorPrecedence.MULTIPLY.value,\n",
    "    '/' : OperatorPrecedence.DIVIDE.value\n",
    "}\n",
    "\n",
    "OPERATORS = \"+-*/\""
   ]
  },
  {
   "cell_type": "markdown",
   "metadata": {},
   "source": [
    "### To check the precedence of the operators"
   ]
  },
  {
   "cell_type": "code",
   "execution_count": null,
   "metadata": {},
   "outputs": [],
   "source": [
    "def has_high_precedence(x: str, y: str) -> bool:\n",
    "    \"\"\"\n",
    "    Returns whether `x` has higher precedence than `y`\n",
    "    \"\"\"\n",
    "    return MAPPING[x] >= MAPPING[y]"
   ]
  },
  {
   "cell_type": "markdown",
   "metadata": {},
   "source": [
    "### To check whether the given expression is balanced"
   ]
  },
  {
   "cell_type": "code",
   "execution_count": null,
   "metadata": {},
   "outputs": [],
   "source": [
    "def is_balanced(equation: str) -> bool:\n",
    "    \"\"\"\n",
    "    Check if the given `equation` has balanced parentheses\n",
    "    \"\"\"\n",
    "    stack = Stack() # Initialize a stack to keep track of parentheses.\n",
    "    for char in equation:\n",
    "        if char == \"(\":\n",
    "            stack.push(char) # Push opening parentheses onto the stack.\n",
    "        elif char == ')':\n",
    "            if len(stack) == 0 or stack.peek() != '(':\n",
    "                return False # Unbalanced parentheses.\n",
    "            stack.pop() # Pop a matching opening parentheses.\n",
    "\n",
    "    return len(stack) == 0 # To check all the opening parantheses has their closing parantheses."
   ]
  },
  {
   "cell_type": "markdown",
   "metadata": {},
   "source": [
    "### Infix to Postfix conversion"
   ]
  },
  {
   "cell_type": "code",
   "execution_count": null,
   "metadata": {},
   "outputs": [],
   "source": [
    "def infix_to_postfix(expression: str) -> str:\n",
    "    \"\"\"\n",
    "    Converts and returns the `infix expression` into `postfix expression`\n",
    "    \"\"\"\n",
    "    string = \"\" # Initialize an empty string to store the postfix expression.\n",
    "    stack = Stack() # Initialize a stack to keep track of operators.\n",
    "    \n",
    "    # To deal with non-spaced expression by adding spaces around operators and parentheses.\n",
    "    corrected_expression = ''\n",
    "    for _ in expression:\n",
    "        if _ in \"-+*/()\":\n",
    "            corrected_expression += f' {_} ' # Add spaces around operators and parentheses.\n",
    "            continue\n",
    "        corrected_expression += _\n",
    "\n",
    "    # Process the corrected expression.\n",
    "    for char in corrected_expression.split():\n",
    "        if char not in OPERATORS + '()':\n",
    "            string += f'{char} ' # Append operands to the postfix expression.\n",
    "\n",
    "        elif char in OPERATORS:\n",
    "            while (len(stack) != 0 and stack.peek() != '(' and has_high_precedence(stack.peek(), char)):\n",
    "                string += f'{stack.pop()} ' # Pop operators with higher or equal precedence and append to postfix expression.\n",
    "            stack.push(char) # Push the current operator onto the stack.\n",
    "\n",
    "        elif char == '(':\n",
    "            stack.push(char) # Push opening parenthesis onto the stack.\n",
    "\n",
    "        elif char == ')':\n",
    "            while (len(stack) != 0 and stack.peek() != '('):\n",
    "                string += f'{stack.pop()} '# Pop operators until a matching opening parenthesis is encountered.\n",
    "            stack.pop()  # Pop the opening parenthesis from the stack.\n",
    "    \n",
    "    # Pop any remaining operators from the stack and append to postfix expression.\n",
    "    while len(stack) != 0:\n",
    "        string += f'{stack.pop()} '\n",
    "            \n",
    "    return string # Return the postfix expression."
   ]
  },
  {
   "cell_type": "markdown",
   "metadata": {},
   "source": [
    "### Postfix evaluation"
   ]
  },
  {
   "cell_type": "code",
   "execution_count": null,
   "metadata": {},
   "outputs": [],
   "source": [
    "def eval_postfix(equation: str) -> float:\n",
    "    \"\"\"\n",
    "    Evaluates the `postfix expression` and returns `float` value if the expression is valid else returns `None`\n",
    "    \"\"\"\n",
    "    stack = Stack() # Initialize a stack to evaluate the postfix expression.\n",
    "    for char in equation.split():\n",
    "        if char not in OPERATORS:\n",
    "            stack.push(float(char)) # Push operands onto the stack.\n",
    "        else:\n",
    "            b = stack.pop()\n",
    "            a = stack.pop()\n",
    "\n",
    "            # Perform the operation based on the current operator.\n",
    "            if char == '+':stack.push(a + b)\n",
    "            elif char == '-':stack.push(a - b)\n",
    "            elif char == '*':stack.push(a * b)\n",
    "            else:stack.push(a / b) # Note: This division assumes non-zero divisor.\n",
    "    if len(stack) == 1:\n",
    "        return stack.items[0] # Return the final result of the postfix expression."
   ]
  },
  {
   "cell_type": "markdown",
   "metadata": {},
   "source": [
    "### Function to handle conversion and evaluation"
   ]
  },
  {
   "cell_type": "code",
   "execution_count": null,
   "metadata": {},
   "outputs": [],
   "source": [
    "def myeval(equation: str) -> float:\n",
    "    \"\"\"\n",
    "    Evaluates and returns `float` if equation is valid else raises Exception\n",
    "    \"\"\"\n",
    "    if is_balanced(equation):\n",
    "        converted = infix_to_postfix(equation) # Convert the infix expression to postfix.\n",
    "        try:\n",
    "            evaluated = eval_postfix(converted) # Evaluate the postfix expression.\n",
    "            if evaluated:\n",
    "                return evaluated # Return the result if the expression is valid.\n",
    "            else:\n",
    "                raise Exception('Not a valid expression') # Invalid expression.\n",
    "        except IndexError:\n",
    "            raise Exception('Not a valid expression') # Invalid expression.\n",
    "    else:\n",
    "        raise Exception('Expression contains unbalanced parentheses.') # Unbalanced parentheses."
   ]
  },
  {
   "cell_type": "code",
   "execution_count": null,
   "metadata": {},
   "outputs": [],
   "source": [
    "result = myeval('( 10 + 20 ) * 10 /2 *3')\n",
    "print(\"Result:\", result)"
   ]
  }
 ],
 "metadata": {
  "kernelspec": {
   "display_name": "Python 3",
   "language": "python",
   "name": "python3"
  },
  "language_info": {
   "codemirror_mode": {
    "name": "ipython",
    "version": 3
   },
   "file_extension": ".py",
   "mimetype": "text/x-python",
   "name": "python",
   "nbconvert_exporter": "python",
   "pygments_lexer": "ipython3",
   "version": "3.10.6"
  }
 },
 "nbformat": 4,
 "nbformat_minor": 2
}
